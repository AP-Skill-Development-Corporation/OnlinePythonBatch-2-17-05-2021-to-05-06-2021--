{
 "cells": [
  {
   "cell_type": "code",
   "execution_count": null,
   "metadata": {},
   "outputs": [],
   "source": [
    "#Agenda of Today :\n",
    "                   1. Continue to Oops\n",
    "                       Data Encapusulation (Data Hiding ) in python\n",
    "                       Ploymorphism   (Method overloading and Method Overriding)\n",
    "                       Data Abstraction.\n",
    "                  2.  Data Science Packages \n",
    "                       i.  Numpy\n",
    "                       ii. Pandas\n",
    "                      iii. Matplotlib \n",
    "                       \n",
    "                       "
   ]
  },
  {
   "cell_type": "code",
   "execution_count": null,
   "metadata": {},
   "outputs": [],
   "source": [
    "#Difference b/w Data Encapsulation and Data Hiding:\n",
    "   Encapsulation means wraping the implementation of data member and \n",
    "   methods inside the class. \n",
    "\n",
    "   Its just envoleping the complexity of data\n",
    "    \n",
    "   Data Hiding means protecting the members of a class\n",
    "   from an illegal and unauthorized users."
   ]
  },
  {
   "cell_type": "code",
   "execution_count": null,
   "metadata": {},
   "outputs": [],
   "source": [
    "#Data hiding:\n",
    "  Its means making the data private so that data will not be \n",
    "  accessble by the others.\n",
    "  It can be accessed only in the class where it is decalred.\n",
    "#Note: to make class variable as private by using double underscore."
   ]
  },
  {
   "cell_type": "code",
   "execution_count": 3,
   "metadata": {},
   "outputs": [
    {
     "name": "stdout",
     "output_type": "stream",
     "text": [
      "30\n",
      "None\n"
     ]
    },
    {
     "ename": "AttributeError",
     "evalue": "'Myclass' object has no attribute '__a'",
     "output_type": "error",
     "traceback": [
      "\u001b[1;31m---------------------------------------------------------------------------\u001b[0m",
      "\u001b[1;31mAttributeError\u001b[0m                            Traceback (most recent call last)",
      "\u001b[1;32m<ipython-input-3-de3dfca6c185>\u001b[0m in \u001b[0;36m<module>\u001b[1;34m\u001b[0m\n\u001b[0;32m      8\u001b[0m \u001b[0mob\u001b[0m \u001b[1;33m=\u001b[0m \u001b[0mMyclass\u001b[0m\u001b[1;33m(\u001b[0m\u001b[1;33m)\u001b[0m\u001b[1;33m\u001b[0m\u001b[1;33m\u001b[0m\u001b[0m\n\u001b[0;32m      9\u001b[0m \u001b[0mprint\u001b[0m\u001b[1;33m(\u001b[0m\u001b[0mob\u001b[0m\u001b[1;33m.\u001b[0m\u001b[0madd\u001b[0m\u001b[1;33m(\u001b[0m\u001b[1;36m20\u001b[0m\u001b[1;33m)\u001b[0m\u001b[1;33m)\u001b[0m  \u001b[1;31m#its just accessing the method of class\u001b[0m\u001b[1;33m\u001b[0m\u001b[1;33m\u001b[0m\u001b[0m\n\u001b[1;32m---> 10\u001b[1;33m \u001b[0mprint\u001b[0m\u001b[1;33m(\u001b[0m\u001b[0mob\u001b[0m\u001b[1;33m.\u001b[0m\u001b[0m__a\u001b[0m\u001b[1;33m)\u001b[0m\u001b[1;33m\u001b[0m\u001b[1;33m\u001b[0m\u001b[0m\n\u001b[0m",
      "\u001b[1;31mAttributeError\u001b[0m: 'Myclass' object has no attribute '__a'"
     ]
    }
   ],
   "source": [
    "#Example:\n",
    "class Myclass:\n",
    "    __a= 10              #class variable or private variable\n",
    "    def add(self,b):\n",
    "        sum = self.__a+b\n",
    "        print(sum)\n",
    "\n",
    "ob = Myclass()\n",
    "print(ob.add(20))  #its just accessing the method of class\n",
    "print(ob.__a)"
   ]
  },
  {
   "cell_type": "code",
   "execution_count": null,
   "metadata": {},
   "outputs": [],
   "source": [
    "#Ploymorphism in oops:\n",
    "   - Its a Greek word.\n",
    "      Ploy - means many\n",
    "      morph - means having many forms.\n",
    "- It refers to the functions having the same names but carrying out different funtionalities."
   ]
  },
  {
   "cell_type": "code",
   "execution_count": 7,
   "metadata": {},
   "outputs": [
    {
     "name": "stdout",
     "output_type": "stream",
     "text": [
      "This is desc of AUDI CAR\n",
      "this is desc of BMW CAR\n"
     ]
    }
   ],
   "source": [
    "#Example:\n",
    "class audi:\n",
    "    def desc(self):\n",
    "        print(\"This is desc of AUDI CAR\")\n",
    "class BMW:\n",
    "    def desc(self):\n",
    "        print(\"this is desc of BMW CAR\")\n",
    "a = audi()\n",
    "b = BMW()\n",
    "for car in(a,b):\n",
    "    car.desc()       "
   ]
  },
  {
   "cell_type": "code",
   "execution_count": null,
   "metadata": {},
   "outputs": [],
   "source": [
    "#Data Abstraction:\n",
    "     We use abstraction in oops for hiding the interal details or implementions of functions\n",
    "     and functinalaties only.\n",
    "#Note:\n",
    "     Any class with atleast one abstract function is called as abstract class.\n",
    "     To create an abstract class \n",
    "          we need to import ABC class from abc module.\n",
    "          ABS stands for Abstact Base Class.\n",
    "    #Data Abstraction can be done by using inheritance."
   ]
  },
  {
   "cell_type": "code",
   "execution_count": null,
   "metadata": {},
   "outputs": [],
   "source": [
    "#syntax for how to import ABC class\n",
    "from abc import ABC\n",
    "class Abs_class(ABC):\n",
    "    #body of the class\n",
    "    @abstact method"
   ]
  },
  {
   "cell_type": "code",
   "execution_count": 9,
   "metadata": {},
   "outputs": [
    {
     "name": "stdout",
     "output_type": "stream",
     "text": [
      "this is desc of class car\n",
      "The BMW's price is 50 lakhs\n"
     ]
    }
   ],
   "source": [
    "#example:\n",
    "from abc import ABC,abstractmethod\n",
    "\n",
    "class car(ABC):                          #abstract class\n",
    "    def __init__(self,name):\n",
    "        self.name = name\n",
    "        \n",
    "    def desc(self):                   #normal class method\n",
    "        print(\"this is desc of class car\")\n",
    "        \n",
    "        \n",
    "    @abstractmethod                 #abstract method\n",
    "    def price(self,x):\n",
    "        pass\n",
    "    \n",
    "class new(car):\n",
    "    def price(self,x):\n",
    "        print(f\"The {self.name}'s price is {x} lakhs\")\n",
    "        \n",
    "ob = new(\"BMW\")   #child class object\n",
    "ob.desc()\n",
    "ob.price(50)"
   ]
  },
  {
   "cell_type": "code",
   "execution_count": null,
   "metadata": {},
   "outputs": [],
   "source": [
    "#Data Science Packages \n",
    "                       1.  Numpy (Num+py)\n",
    "                           Numrical data + python\n",
    "                      \n",
    "                      2. Pandas- Its used packages used \n",
    "                         for \n",
    "    (i)   Data Manipulation (modification,updation)\n",
    "    (ii)  Data analysis (To Know the Complete knowledge about data including the theme of datasets. )\n",
    "    (iii) Data Cleaning  (To remove unneccessary data from data sets.)\n",
    "                                 \n",
    "3. Matplotlib - To represent complex data with 2d- Graphics tools.\n",
    "         used tools:\n",
    "                  1. plots\n",
    "                  2. bar graphs\n",
    "                  3. pie charts\n",
    "                  4. Histograms\n",
    "                  5. Scatter plots\n",
    "                  6. area graphs."
   ]
  },
  {
   "cell_type": "code",
   "execution_count": null,
   "metadata": {},
   "outputs": [],
   "source": [
    "#Numpys in Python:\n",
    "Numpy is open source library package used for scientific computing.\n",
    "   Its meanly deals  with \n",
    "      (i) mathematical\n",
    "      (ii) scientific\n",
    "       (iii) engineering data\n",
    "        (iv) statical data\n",
    "        (v) multi-dimesional arrays and matric multiplication."
   ]
  },
  {
   "cell_type": "code",
   "execution_count": null,
   "metadata": {},
   "outputs": [],
   "source": [
    "#Note:\n",
    "Numpy contains a powerful n-dimensional array object."
   ]
  },
  {
   "cell_type": "code",
   "execution_count": null,
   "metadata": {},
   "outputs": [],
   "source": [
    "#what is numpy array?\n",
    "   - numpy array is powerful n-dimensional  array object which is in the \n",
    "     form of rows and columns\n",
    "   - We can initiliaze numpy arrays from nested python lists.\n",
    "    "
   ]
  },
  {
   "cell_type": "code",
   "execution_count": null,
   "metadata": {},
   "outputs": [],
   "source": [
    "#How to install numpy package?\n",
    "pip install numpy"
   ]
  },
  {
   "cell_type": "code",
   "execution_count": 10,
   "metadata": {},
   "outputs": [],
   "source": [
    "#how to import and use numpy package ?\n",
    "import numpy as np"
   ]
  },
  {
   "cell_type": "code",
   "execution_count": 14,
   "metadata": {},
   "outputs": [
    {
     "data": {
      "text/plain": [
       "array([1, 2, 3])"
      ]
     },
     "execution_count": 14,
     "metadata": {},
     "output_type": "execute_result"
    }
   ],
   "source": [
    "#how to create numpy arrays?\n",
    "import numpy as np\n",
    "a=np.array([1,2,3])     #single-dimensional numpy array\n",
    "a"
   ]
  },
  {
   "cell_type": "code",
   "execution_count": 15,
   "metadata": {},
   "outputs": [
    {
     "data": {
      "text/plain": [
       "(3,)"
      ]
     },
     "execution_count": 15,
     "metadata": {},
     "output_type": "execute_result"
    }
   ],
   "source": [
    "#to know the shape of array\n",
    "a.shape"
   ]
  },
  {
   "cell_type": "code",
   "execution_count": 17,
   "metadata": {},
   "outputs": [
    {
     "data": {
      "text/plain": [
       "(2, 3)"
      ]
     },
     "execution_count": 17,
     "metadata": {},
     "output_type": "execute_result"
    }
   ],
   "source": [
    "#How to 2D- multi dimensional arrays:\n",
    "a=np.array([(1,2,3),(4,5,6)])\n",
    "a.shape"
   ]
  },
  {
   "cell_type": "code",
   "execution_count": 22,
   "metadata": {},
   "outputs": [
    {
     "name": "stdout",
     "output_type": "stream",
     "text": [
      "[1 2 3 4 5 6 7 8 9]\n",
      "[2.3 6.  9.  3.5 9.  1.3]\n",
      "int32\n",
      "float64\n"
     ]
    }
   ],
   "source": [
    "#Numpy array attributes:\n",
    "a1 = np.array([1,2,3,4,5,6,7,8,9])\n",
    "print(a1)\n",
    "a2 = np.array([2.3,6,9,3.5,9.0,1.3])\n",
    "print(a2)\n",
    "print(a1.dtype)\n",
    "print(a2.dtype)"
   ]
  },
  {
   "cell_type": "code",
   "execution_count": 25,
   "metadata": {},
   "outputs": [
    {
     "name": "stdout",
     "output_type": "stream",
     "text": [
      "(9,)\n",
      "(2, 3)\n",
      "(2, 2, 3)\n"
     ]
    }
   ],
   "source": [
    "#shape of numpy array:\n",
    "a1 = np.array([1,2,3,4,5,6,7,8,9])   #1-d array\n",
    "a2 = np.array([[1,2,3],[4,5,6]])     #2-D array\n",
    "a3 = np.array([[[1,3,5],[5,6,7]],[[8,9,3],[6,7,8]]]) #3-d array\n",
    "print(a1.shape)\n",
    "print(a2.shape)\n",
    "print(a3.shape)"
   ]
  },
  {
   "cell_type": "code",
   "execution_count": 29,
   "metadata": {},
   "outputs": [
    {
     "name": "stdout",
     "output_type": "stream",
     "text": [
      "1\n",
      "2\n",
      "3\n"
     ]
    }
   ],
   "source": [
    "#dimension of an numpy:\n",
    "#ndim():\n",
    "print(a1.ndim)\n",
    "print(a2.ndim)\n",
    "print(a3.ndim)"
   ]
  },
  {
   "cell_type": "code",
   "execution_count": 44,
   "metadata": {},
   "outputs": [
    {
     "name": "stdout",
     "output_type": "stream",
     "text": [
      "(8,)\n",
      "before reshape [1 2 3 4 5 6 7 8]\n",
      "after reshape [[1 2]\n",
      " [3 4]\n",
      " [5 6]\n",
      " [7 8]]\n",
      "(4, 2)\n"
     ]
    }
   ],
   "source": [
    "#reshape of array:\n",
    "a1 = np.array([1,2,3,4,5,6,7,8])\n",
    "print(a1.shape)\n",
    "print(\"before reshape\",a1)\n",
    "a2 = a1.reshape(4,2)\n",
    "print(\"after reshape\",a2)\n",
    "print(a2.shape)"
   ]
  },
  {
   "cell_type": "code",
   "execution_count": 48,
   "metadata": {},
   "outputs": [
    {
     "name": "stdout",
     "output_type": "stream",
     "text": [
      "[1 2 3 4 5 6 7 8]\n",
      "(8,)\n",
      "[1 2 3]\n",
      "(3,)\n",
      "[[1 2 3 0]\n",
      " [0 0 0 0]]\n",
      "(2, 4)\n",
      "[[1 2 3]\n",
      " [0 0 0]\n",
      " [0 0 0]]\n",
      "(3, 3)\n"
     ]
    }
   ],
   "source": [
    "#resize of array: (its modifies existing shape and array itself.)\n",
    "a1 = np.array([1,2,3,4,5,6,7,8])\n",
    "print(a1)\n",
    "print(a1.shape)\n",
    "a1.resize(3)   #resize the no of elements from original array\n",
    "print(a1)\n",
    "print(a1.shape)\n",
    "a1.resize(2,4)\n",
    "print(a1)\n",
    "print(a1.shape)\n",
    "a1.resize(3,3)\n",
    "print(a1)\n",
    "print(a1.shape)"
   ]
  },
  {
   "cell_type": "code",
   "execution_count": 56,
   "metadata": {},
   "outputs": [
    {
     "name": "stdout",
     "output_type": "stream",
     "text": [
      "float64\n",
      "int64\n",
      "[0. 0. 0.]\n",
      "[[0 0 0 0]\n",
      " [0 0 0 0]]\n"
     ]
    }
   ],
   "source": [
    "#zero array: ones array: full array:  eye array\n",
    "import numpy as np\n",
    "a1=np.zeros(3)\n",
    "a2=np.zeros((2,4),dtype=\"int64\")\n",
    "print(a1.dtype)\n",
    "print(a2.dtype)\n",
    "print(a1)\n",
    "print(a2)"
   ]
  },
  {
   "cell_type": "code",
   "execution_count": 59,
   "metadata": {},
   "outputs": [
    {
     "data": {
      "text/plain": [
       "array([[1, 1, 1, 1, 1],\n",
       "       [1, 1, 1, 1, 1],\n",
       "       [1, 1, 1, 1, 1],\n",
       "       [1, 1, 1, 1, 1],\n",
       "       [1, 1, 1, 1, 1],\n",
       "       [1, 1, 1, 1, 1]], dtype=int64)"
      ]
     },
     "execution_count": 59,
     "metadata": {},
     "output_type": "execute_result"
    }
   ],
   "source": [
    "#ones array:\n",
    "np.ones(3,dtype=\"int64\")\n",
    "np.ones((6,5),dtype=\"int64\")"
   ]
  },
  {
   "cell_type": "code",
   "execution_count": 63,
   "metadata": {},
   "outputs": [
    {
     "data": {
      "text/plain": [
       "array([[5, 5, 5, 5, 5, 5, 5, 5, 5],\n",
       "       [5, 5, 5, 5, 5, 5, 5, 5, 5],\n",
       "       [5, 5, 5, 5, 5, 5, 5, 5, 5]])"
      ]
     },
     "execution_count": 63,
     "metadata": {},
     "output_type": "execute_result"
    }
   ],
   "source": [
    "#full array: full(dimension,specified number)\n",
    "np.full(3,100)\n",
    "np.full((3,9),500)\n",
    "np.full((3,9),5)"
   ]
  },
  {
   "cell_type": "code",
   "execution_count": 76,
   "metadata": {},
   "outputs": [
    {
     "data": {
      "text/plain": [
       "array([[1, 0, 0, 0, 0],\n",
       "       [0, 1, 0, 0, 0],\n",
       "       [0, 0, 1, 0, 0],\n",
       "       [0, 0, 0, 1, 0],\n",
       "       [0, 0, 0, 0, 1]], dtype=int64)"
      ]
     },
     "execution_count": 76,
     "metadata": {},
     "output_type": "execute_result"
    }
   ],
   "source": [
    "#eye array:\n",
    "np.eye(6,dtype=\"int64\")\n",
    "n=np.eye(5,k=0,dtype=\"int64\")\n",
    "n"
   ]
  },
  {
   "cell_type": "code",
   "execution_count": null,
   "metadata": {},
   "outputs": [],
   "source": []
  }
 ],
 "metadata": {
  "kernelspec": {
   "display_name": "Python 3",
   "language": "python",
   "name": "python3"
  },
  "language_info": {
   "codemirror_mode": {
    "name": "ipython",
    "version": 3
   },
   "file_extension": ".py",
   "mimetype": "text/x-python",
   "name": "python",
   "nbconvert_exporter": "python",
   "pygments_lexer": "ipython3",
   "version": "3.8.5"
  }
 },
 "nbformat": 4,
 "nbformat_minor": 5
}
