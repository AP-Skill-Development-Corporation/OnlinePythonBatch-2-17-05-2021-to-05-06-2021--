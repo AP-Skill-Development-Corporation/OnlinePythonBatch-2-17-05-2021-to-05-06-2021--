{
 "cells": [
  {
   "cell_type": "markdown",
   "metadata": {},
   "source": [
    "## Day Agenda\n",
    "- Printing attributes\n",
    "- Conditional statements\n",
    "- Loops"
   ]
  },
  {
   "cell_type": "code",
   "execution_count": 1,
   "metadata": {},
   "outputs": [
    {
     "name": "stdout",
     "output_type": "stream",
     "text": [
      "hii\n"
     ]
    }
   ],
   "source": [
    "print(\"hii\")"
   ]
  },
  {
   "cell_type": "code",
   "execution_count": 2,
   "metadata": {},
   "outputs": [
    {
     "name": "stdout",
     "output_type": "stream",
     "text": [
      "Help on built-in function print in module builtins:\n",
      "\n",
      "print(...)\n",
      "    print(value, ..., sep=' ', end='\\n', file=sys.stdout, flush=False)\n",
      "    \n",
      "    Prints the values to a stream, or to sys.stdout by default.\n",
      "    Optional keyword arguments:\n",
      "    file:  a file-like object (stream); defaults to the current sys.stdout.\n",
      "    sep:   string inserted between values, default a space.\n",
      "    end:   string appended after the last value, default a newline.\n",
      "    flush: whether to forcibly flush the stream.\n",
      "\n"
     ]
    }
   ],
   "source": [
    "help(print)"
   ]
  },
  {
   "cell_type": "code",
   "execution_count": 7,
   "metadata": {},
   "outputs": [],
   "source": [
    "## i/p=\"apssdc\"\n",
    "## 0/p=\"a,p,s,s,d,c\""
   ]
  },
  {
   "cell_type": "code",
   "execution_count": 20,
   "metadata": {},
   "outputs": [
    {
     "name": "stdout",
     "output_type": "stream",
     "text": [
      "sdfg\n",
      "xcvbn\n",
      "zxcvbnm\n",
      "sdfg@xcvbn@zxcvbnm\n"
     ]
    }
   ],
   "source": [
    "x=input()\n",
    "y=input()\n",
    "z=input()\n",
    "print(x,y,z,sep='@')"
   ]
  },
  {
   "cell_type": "code",
   "execution_count": 21,
   "metadata": {},
   "outputs": [
    {
     "name": "stdout",
     "output_type": "stream",
     "text": [
      "sdfg zxcvbnm\n"
     ]
    }
   ],
   "source": [
    "print(x,z)"
   ]
  },
  {
   "cell_type": "code",
   "execution_count": 22,
   "metadata": {},
   "outputs": [
    {
     "name": "stdout",
     "output_type": "stream",
     "text": [
      "zxcvbnm\n",
      "sdfg$"
     ]
    }
   ],
   "source": [
    "print(z)\n",
    "print(x,end='$')"
   ]
  },
  {
   "cell_type": "code",
   "execution_count": 25,
   "metadata": {},
   "outputs": [
    {
     "name": "stdout",
     "output_type": "stream",
     "text": [
      "12\n",
      "34\n",
      "12,34\n"
     ]
    }
   ],
   "source": [
    "a,b=int(input()),int(input())\n",
    "print(a,b,sep=',')"
   ]
  },
  {
   "cell_type": "code",
   "execution_count": 26,
   "metadata": {},
   "outputs": [
    {
     "name": "stdout",
     "output_type": "stream",
     "text": [
      "12*34\n",
      "sdfg\n"
     ]
    }
   ],
   "source": [
    "print(a,end=\"*\")\n",
    "print(b)\n",
    "print(x)"
   ]
  },
  {
   "cell_type": "markdown",
   "metadata": {},
   "source": [
    "## Conditional Statements \n",
    "- if\n",
    "- if ,else\n",
    "- nested if\n",
    "- if ,elif\n"
   ]
  },
  {
   "cell_type": "markdown",
   "metadata": {},
   "source": [
    "- Syntax \n",
    "~~~\n",
    "if(condition):\n",
    "    statement1\n",
    "    statement2\n",
    "elif(condition):\n",
    "    statement1\n",
    "    statement2\n",
    "else:\n",
    "    statement\n",
    "~~~\n",
    "    "
   ]
  },
  {
   "cell_type": "code",
   "execution_count": 27,
   "metadata": {},
   "outputs": [
    {
     "name": "stdout",
     "output_type": "stream",
     "text": [
      "x1 is lesser than x2\n"
     ]
    }
   ],
   "source": [
    "x1=60\n",
    "x2=70\n",
    "if (x1<x2):\n",
    "    print(\"x1 is lesser than x2\")   "
   ]
  },
  {
   "cell_type": "code",
   "execution_count": 31,
   "metadata": {},
   "outputs": [
    {
     "name": "stdout",
     "output_type": "stream",
     "text": [
      "x2>x1\n"
     ]
    }
   ],
   "source": [
    "x1=60\n",
    "x2=70\n",
    "if (x1>x2):\n",
    "    print(\"x1 is lesser than x2\") \n",
    "else:\n",
    "    print(\"x2>x1\")"
   ]
  },
  {
   "cell_type": "code",
   "execution_count": 32,
   "metadata": {},
   "outputs": [
    {
     "name": "stdout",
     "output_type": "stream",
     "text": [
      "a<b\n"
     ]
    }
   ],
   "source": [
    "a=12\n",
    "b=23\n",
    "c=10\n",
    "if a>b:\n",
    "    print(\"a>b\")\n",
    "elif(a<b):\n",
    "    print('a<b')\n",
    "elif(b>c):\n",
    "    print(\"b>c\")\n",
    "else:\n",
    "    print(\"expecting some other values\")"
   ]
  },
  {
   "cell_type": "markdown",
   "metadata": {},
   "source": [
    "## Take  a student marks as dynamical input\n",
    "- print whether student is pass or fail \n",
    "- print whether student is 1st class or 2nd class or third class "
   ]
  },
  {
   "cell_type": "code",
   "execution_count": 93,
   "metadata": {},
   "outputs": [
    {
     "name": "stdout",
     "output_type": "stream",
     "text": [
      "65\n",
      "pass\n",
      "3nd class\n"
     ]
    }
   ],
   "source": [
    "marks=int(input())\n",
    "if marks>=35:\n",
    "    print('pass')\n",
    "    if  marks>=90:\n",
    "        print(\"1st class\")\n",
    "    elif  marks>=70:\n",
    "        print(\"2nd class\")\n",
    "    elif  marks>=50:\n",
    "        print(\"3nd class\")\n",
    "else:\n",
    "    print(\"fail\")"
   ]
  },
  {
   "cell_type": "code",
   "execution_count": 36,
   "metadata": {},
   "outputs": [
    {
     "name": "stdout",
     "output_type": "stream",
     "text": [
      "m>n\n"
     ]
    }
   ],
   "source": [
    "m=10\n",
    "n=20\n",
    "if m>n:\n",
    "    print(\"m is lesser than  n\")\n",
    "    if m<n:\n",
    "        print(\"m is lesser than n\")\n",
    "    else:\n",
    "        print(\"m is not above n\")\n",
    "else:\n",
    "    print(\"m>n\")"
   ]
  },
  {
   "cell_type": "code",
   "execution_count": 37,
   "metadata": {},
   "outputs": [
    {
     "name": "stdout",
     "output_type": "stream",
     "text": [
      "m is lesser than  n\n",
      "m is lesser than n\n"
     ]
    }
   ],
   "source": [
    "m=10\n",
    "n=20\n",
    "if m<n:\n",
    "    print(\"m is lesser than  n\")\n",
    "    if m<n:\n",
    "        print(\"m is lesser than n\")\n",
    "    else:\n",
    "        print(\"m is not above n\")\n",
    "else:\n",
    "    print(\"m>n\")"
   ]
  },
  {
   "cell_type": "code",
   "execution_count": 41,
   "metadata": {},
   "outputs": [
    {
     "name": "stdout",
     "output_type": "stream",
     "text": [
      "36\n",
      "36 divisible by 6\n"
     ]
    }
   ],
   "source": [
    "## Write a Program to Check the given number is divisble by 6 or not\n",
    "n=int(input())\n",
    "if n%6==0:\n",
    "    print(n,\"divisible by 6\")\n",
    "else:\n",
    "    print(n,\"not divisible by 6\")"
   ]
  },
  {
   "cell_type": "markdown",
   "metadata": {},
   "source": [
    "## Task \n",
    "-  Write a program to check the given number is even or odd\n",
    "-  write a program to check find out squre"
   ]
  },
  {
   "cell_type": "markdown",
   "metadata": {},
   "source": [
    "## LOOPs\n",
    "- for \n",
    "    - To generate a sequence \n",
    "- Syntax\n",
    "    - for \n",
    "        - range(start,stop,step)\n",
    "            - start ==included (0)\n",
    "            - stop  == Excluded\n",
    "            - step  = 1\n",
    "- while\n",
    "    - Can excute a set of statements as long as condition is true\n",
    "- syntax\n",
    "    - while(condition)"
   ]
  },
  {
   "cell_type": "code",
   "execution_count": 49,
   "metadata": {},
   "outputs": [
    {
     "name": "stdout",
     "output_type": "stream",
     "text": [
      "a\n",
      "p\n",
      "s\n",
      "s\n",
      "d\n",
      "c\n"
     ]
    }
   ],
   "source": [
    "x='apssdc'\n",
    "#print(len(x))\n",
    "for i in x:\n",
    "    print(i)"
   ]
  },
  {
   "cell_type": "code",
   "execution_count": 60,
   "metadata": {},
   "outputs": [
    {
     "name": "stdout",
     "output_type": "stream",
     "text": [
      "apssdc"
     ]
    }
   ],
   "source": [
    "x='apssdc'\n",
    "for i in x:\n",
    "    print(i,end='')"
   ]
  },
  {
   "cell_type": "code",
   "execution_count": 54,
   "metadata": {},
   "outputs": [
    {
     "name": "stdout",
     "output_type": "stream",
     "text": [
      "1\n",
      "2\n",
      "3\n",
      "4\n",
      "5\n",
      "6\n"
     ]
    }
   ],
   "source": [
    "for i in range(1,6+1):\n",
    "    print(i)"
   ]
  },
  {
   "cell_type": "code",
   "execution_count": 66,
   "metadata": {},
   "outputs": [
    {
     "name": "stdout",
     "output_type": "stream",
     "text": [
      "as\n",
      "df\n",
      "hj\n",
      "hj\n"
     ]
    }
   ],
   "source": [
    "## Take a dynamical input with a number times(3)\n",
    "for  i in range(3):\n",
    "    #print(i)\n",
    "    x=input()\n",
    "print(x)"
   ]
  },
  {
   "cell_type": "code",
   "execution_count": 67,
   "metadata": {},
   "outputs": [
    {
     "name": "stdout",
     "output_type": "stream",
     "text": [
      "23\n",
      "23\n",
      "56\n",
      "56\n",
      "89\n",
      "89\n",
      "121\n",
      "121\n",
      "34\n",
      "34\n"
     ]
    }
   ],
   "source": [
    "for i in range(5): ## 5 is stop\n",
    "    n=int(input())\n",
    "    print(n)"
   ]
  },
  {
   "cell_type": "code",
   "execution_count": 68,
   "metadata": {},
   "outputs": [
    {
     "name": "stdout",
     "output_type": "stream",
     "text": [
      "hello\n",
      "hello\n",
      "hello\n",
      "out of for loop\n",
      "range is more than 3\n"
     ]
    }
   ],
   "source": [
    "for x in range(3):\n",
    "    print(\"hello\")\n",
    "else:\n",
    "    print(\"out of for loop\")\n",
    "    print(\"range is more than 3\")"
   ]
  },
  {
   "cell_type": "code",
   "execution_count": 71,
   "metadata": {},
   "outputs": [
    {
     "name": "stdout",
     "output_type": "stream",
     "text": [
      "0\n",
      "1\n",
      "2\n",
      "3\n",
      "4\n"
     ]
    }
   ],
   "source": [
    "# with the break  statement we can stop the loop \n",
    "for i in range(5):\n",
    "    print(i)\n",
    "    if i==4:\n",
    "        break "
   ]
  },
  {
   "cell_type": "code",
   "execution_count": 77,
   "metadata": {},
   "outputs": [
    {
     "name": "stdout",
     "output_type": "stream",
     "text": [
      "0\n",
      "1\n",
      "2\n",
      "4\n"
     ]
    }
   ],
   "source": [
    "## continue will stop the current iteration and continues the next iteration\n",
    "for i in range(5):\n",
    "    #print(i)\n",
    "    if i==3:\n",
    "        continue\n",
    "    print(i)"
   ]
  },
  {
   "cell_type": "code",
   "execution_count": 75,
   "metadata": {},
   "outputs": [],
   "source": [
    "## pass - nothing to specify\n",
    "for i in range(5):\n",
    "    pass"
   ]
  },
  {
   "cell_type": "markdown",
   "metadata": {},
   "source": [
    "## Task\n",
    "## write a program to print even numbers in the given range\n",
    "## ub=stop(1,)\n",
    "## lb=start(50)"
   ]
  },
  {
   "cell_type": "code",
   "execution_count": 80,
   "metadata": {},
   "outputs": [
    {
     "name": "stdout",
     "output_type": "stream",
     "text": [
      "1 \n",
      "50\n",
      "2 4 6 8 10 12 14 16 18 20 22 24 26 28 30 32 34 36 38 40 42 44 46 48 50 "
     ]
    }
   ],
   "source": [
    "lb=int(input())\n",
    "ub=int(input())\n",
    "\n",
    "for i in range(lb,ub+1):\n",
    "    if i%2==0:\n",
    "        print(i,end=' ')\n",
    "    "
   ]
  },
  {
   "cell_type": "code",
   "execution_count": null,
   "metadata": {},
   "outputs": [],
   "source": []
  }
 ],
 "metadata": {
  "kernelspec": {
   "display_name": "Python 3",
   "language": "python",
   "name": "python3"
  },
  "language_info": {
   "codemirror_mode": {
    "name": "ipython",
    "version": 3
   },
   "file_extension": ".py",
   "mimetype": "text/x-python",
   "name": "python",
   "nbconvert_exporter": "python",
   "pygments_lexer": "ipython3",
   "version": "3.8.5"
  }
 },
 "nbformat": 4,
 "nbformat_minor": 4
}
