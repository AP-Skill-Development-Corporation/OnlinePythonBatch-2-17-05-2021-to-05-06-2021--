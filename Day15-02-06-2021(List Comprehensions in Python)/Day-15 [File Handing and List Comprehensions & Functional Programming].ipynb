{
 "cells": [
  {
   "cell_type": "code",
   "execution_count": null,
   "metadata": {},
   "outputs": [],
   "source": [
    "#Agenda of Today :\n",
    "                     1. Continue to File handling\n",
    "                     2. List Comprehensions\n",
    "                     3. Funtional Programming (map(),filter(),reduce(),lambda)\n",
    "                DAY-16  - Oops\n",
    "                DAY-17  - Data Science Packages\n",
    "                DAY-18  - Data Science Packages and Test on Python"
   ]
  },
  {
   "cell_type": "code",
   "execution_count": null,
   "metadata": {},
   "outputs": [],
   "source": [
    "#File Operations(open,read,write,append,close)"
   ]
  },
  {
   "cell_type": "code",
   "execution_count": 12,
   "metadata": {},
   "outputs": [
    {
     "data": {
      "text/plain": [
       "'This is a new line'"
      ]
     },
     "execution_count": 12,
     "metadata": {},
     "output_type": "execute_result"
    }
   ],
   "source": [
    "#Write and append\n",
    "f=open(\"newfile.txt\",\"w\")\n",
    "f.write(\"Today is Wednesday\")\n",
    "\n",
    "f=open(\"newfile.txt\",\"a\")\n",
    "f.write(\"Python is Awesome\")\n",
    "f=open(\"newfile.txt\",\"w\")\n",
    "f.write(\"This is a new line\")\n",
    "f = open(\"newfile.txt\",\"r\")\n",
    "f.read()"
   ]
  },
  {
   "cell_type": "code",
   "execution_count": null,
   "metadata": {},
   "outputs": [],
   "source": [
    "#close operation (we have different way of closing the file)\n"
   ]
  },
  {
   "cell_type": "code",
   "execution_count": 19,
   "metadata": {},
   "outputs": [],
   "source": [
    "#1-way\n",
    "f = open(\"newfile.txt\",\"r\")\n",
    "f.read()\n",
    "f.close()"
   ]
  },
  {
   "cell_type": "code",
   "execution_count": 21,
   "metadata": {},
   "outputs": [
    {
     "name": "stdout",
     "output_type": "stream",
     "text": [
      "newfile.txt\n",
      "r\n",
      "True\n",
      "cp1252\n"
     ]
    }
   ],
   "source": [
    "#How to know the file object attributes (fileobject.attributename)\n",
    "print(f.name)\n",
    "print(f.mode)\n",
    "print(f.closed)\n",
    "print(f.encoding)"
   ]
  },
  {
   "cell_type": "code",
   "execution_count": 23,
   "metadata": {},
   "outputs": [
    {
     "ename": "UnsupportedOperation",
     "evalue": "not readable",
     "output_type": "error",
     "traceback": [
      "\u001b[1;31m---------------------------------------------------------------------------\u001b[0m",
      "\u001b[1;31mUnsupportedOperation\u001b[0m                      Traceback (most recent call last)",
      "\u001b[1;32m<ipython-input-23-aa7c89d20feb>\u001b[0m in \u001b[0;36m<module>\u001b[1;34m\u001b[0m\n\u001b[0;32m      2\u001b[0m \u001b[1;32mtry\u001b[0m\u001b[1;33m:\u001b[0m\u001b[1;33m\u001b[0m\u001b[1;33m\u001b[0m\u001b[0m\n\u001b[0;32m      3\u001b[0m     \u001b[0mf\u001b[0m\u001b[1;33m=\u001b[0m\u001b[0mopen\u001b[0m\u001b[1;33m(\u001b[0m\u001b[1;34m\"newfile.txt\"\u001b[0m\u001b[1;33m,\u001b[0m\u001b[1;34m\"a\"\u001b[0m\u001b[1;33m)\u001b[0m\u001b[1;33m\u001b[0m\u001b[1;33m\u001b[0m\u001b[0m\n\u001b[1;32m----> 4\u001b[1;33m     \u001b[0mf\u001b[0m\u001b[1;33m.\u001b[0m\u001b[0mread\u001b[0m\u001b[1;33m(\u001b[0m\u001b[1;33m)\u001b[0m\u001b[1;33m\u001b[0m\u001b[1;33m\u001b[0m\u001b[0m\n\u001b[0m\u001b[0;32m      5\u001b[0m \u001b[1;32mfinally\u001b[0m\u001b[1;33m:\u001b[0m\u001b[1;33m\u001b[0m\u001b[1;33m\u001b[0m\u001b[0m\n\u001b[0;32m      6\u001b[0m     \u001b[0mf\u001b[0m\u001b[1;33m.\u001b[0m\u001b[0mclose\u001b[0m\u001b[1;33m(\u001b[0m\u001b[1;33m)\u001b[0m\u001b[1;33m\u001b[0m\u001b[1;33m\u001b[0m\u001b[0m\n",
      "\u001b[1;31mUnsupportedOperation\u001b[0m: not readable"
     ]
    }
   ],
   "source": [
    "#2-way to close the file\n",
    "try:\n",
    "    f=open(\"newfile.txt\",\"a\")\n",
    "    f.read()\n",
    "finally:\n",
    "    f.close()"
   ]
  },
  {
   "cell_type": "code",
   "execution_count": 24,
   "metadata": {},
   "outputs": [
    {
     "data": {
      "text/plain": [
       "True"
      ]
     },
     "execution_count": 24,
     "metadata": {},
     "output_type": "execute_result"
    }
   ],
   "source": [
    "f.closed"
   ]
  },
  {
   "cell_type": "code",
   "execution_count": 29,
   "metadata": {},
   "outputs": [
    {
     "name": "stdout",
     "output_type": "stream",
     "text": [
      "This is a new line\n"
     ]
    }
   ],
   "source": [
    "#3-way to close the file(simply open the file with \"with\" keyword)\n",
    "with open(\"newfile.txt\",\"r\") as f:\n",
    "    print(f.read())"
   ]
  },
  {
   "cell_type": "code",
   "execution_count": 30,
   "metadata": {},
   "outputs": [
    {
     "data": {
      "text/plain": [
       "True"
      ]
     },
     "execution_count": 30,
     "metadata": {},
     "output_type": "execute_result"
    }
   ],
   "source": [
    "f.closed"
   ]
  },
  {
   "cell_type": "code",
   "execution_count": 32,
   "metadata": {},
   "outputs": [
    {
     "name": "stdout",
     "output_type": "stream",
     "text": [
      "enter your filename:hello.txt\n"
     ]
    }
   ],
   "source": [
    "#Files using with functions:\n",
    "#Write data into file:\n",
    "def writetofile(filename):\n",
    "    with open(filename,\"w\") as f:\n",
    "        data=f.write(\"Hello are you there?\")\n",
    "writetofile(input(\"enter your filename:\"))"
   ]
  },
  {
   "cell_type": "code",
   "execution_count": 33,
   "metadata": {},
   "outputs": [
    {
     "name": "stdout",
     "output_type": "stream",
     "text": [
      "enter your filenamehello.txt\n",
      "Hello are you there?\n"
     ]
    }
   ],
   "source": [
    "#read from file:\n",
    "def readfile(filename):\n",
    "    with open(filename,\"r\") as f:\n",
    "        print(f.read())\n",
    "readfile(input(\"enter your filename\"))"
   ]
  },
  {
   "cell_type": "code",
   "execution_count": 34,
   "metadata": {},
   "outputs": [
    {
     "name": "stdout",
     "output_type": "stream",
     "text": [
      "enter your filename:hello.txt\n",
      "Hello are you there?\n"
     ]
    }
   ],
   "source": [
    "def writetofile(filename):\n",
    "    with open(filename,\"w\") as f:\n",
    "        data=f.write(\"Hello are you there?\")\n",
    "    with open(filename,\"r\") as f:\n",
    "        print(f.read())\n",
    "writetofile(input(\"enter your filename:\"))"
   ]
  },
  {
   "cell_type": "code",
   "execution_count": null,
   "metadata": {},
   "outputs": [],
   "source": [
    "#tell() and seek() methods:\n",
    "#tell()- used to know the where the cursor is placed at now\n",
    "#seek() - used to change the position of cursor to origin,previous,end\n",
    "    #seek(0,0)-origin \n",
    "    #seek(0,1)-prevoius\n",
    "    #seek(0,2)-end point"
   ]
  },
  {
   "cell_type": "code",
   "execution_count": 113,
   "metadata": {},
   "outputs": [
    {
     "name": "stdout",
     "output_type": "stream",
     "text": [
      "6\n",
      "0\n",
      "18\n",
      "0\n",
      "0\n"
     ]
    }
   ],
   "source": [
    "#ex:\n",
    "with open(\"newfile.txt\",\"r\") as f:\n",
    "    #print(len(f.read()))\n",
    "    data = f.read(6)\n",
    "    position = f.tell()\n",
    "    print(position)\n",
    "    position1 = f.seek(0,0)  #change to origin position\n",
    "    print(position1)\n",
    "    position2 = f.seek(0,2)  #change to end position\n",
    "    print(position2)\n",
    "    position3 = f.seek(0,0)  #change to previous position\n",
    "    print(position3) \n",
    "    position4 = f.seek(0,1)\n",
    "    print(position4)"
   ]
  },
  {
   "cell_type": "code",
   "execution_count": null,
   "metadata": {},
   "outputs": [],
   "source": [
    "#List Compreshensions in Python:\n",
    " List Compreshensions are used to creating new lists by using existing lists \n",
    "    or from other iterables (lists,sets,tuples,dictionaries)\n",
    "#syntax:\n",
    " output=[result for val in input_sequence if val satisfies the condition]"
   ]
  },
  {
   "cell_type": "code",
   "execution_count": 46,
   "metadata": {},
   "outputs": [
    {
     "name": "stdout",
     "output_type": "stream",
     "text": [
      "[1, 4, 9, 16, 25, 36, 49, 64, 81]\n"
     ]
    }
   ],
   "source": [
    "#Ex: (using normal code)\n",
    "li = [1,2,3,4,5,6,7,8,9]\n",
    "out = []\n",
    "for i in li:\n",
    "    out.append(pow(i,2))\n",
    "print(out)"
   ]
  },
  {
   "cell_type": "code",
   "execution_count": 48,
   "metadata": {},
   "outputs": [
    {
     "name": "stdout",
     "output_type": "stream",
     "text": [
      "[1, 4, 9, 16, 25, 36, 49, 64, 81]\n"
     ]
    }
   ],
   "source": [
    " #using comprehension:\n",
    "[pow(i,2) for i in li]"
   ]
  },
  {
   "cell_type": "code",
   "execution_count": 49,
   "metadata": {},
   "outputs": [
    {
     "name": "stdout",
     "output_type": "stream",
     "text": [
      "[5, 10, 15, 20, 25, 35, 40, 45, 50, 55, 65, 70, 75, 80, 85, 95]\n"
     ]
    }
   ],
   "source": [
    "#Ex2:\n",
    "li = []\n",
    "for i in range(1,100):\n",
    "    if i%5==0 and i%6!=0:\n",
    "        li.append(i)\n",
    "print(li)"
   ]
  },
  {
   "cell_type": "code",
   "execution_count": 52,
   "metadata": {},
   "outputs": [
    {
     "data": {
      "text/plain": [
       "[5, 10, 15, 20, 25, 35, 40, 45, 50, 55, 65, 70, 75, 80, 85, 95]"
      ]
     },
     "execution_count": 52,
     "metadata": {},
     "output_type": "execute_result"
    }
   ],
   "source": [
    "[i for i in range(1,100) if (i%5==0 and i%6!=0)]"
   ]
  },
  {
   "cell_type": "code",
   "execution_count": null,
   "metadata": {},
   "outputs": [],
   "source": [
    "#Dictionary Comprehension:\n",
    "#Syntax:\n",
    "{key:value for (key,value) in iterable if (key,value) are satisfies}"
   ]
  },
  {
   "cell_type": "code",
   "execution_count": 53,
   "metadata": {},
   "outputs": [
    {
     "name": "stdout",
     "output_type": "stream",
     "text": [
      "{2: 8, 4: 64, 6: 216, 8: 512}\n"
     ]
    }
   ],
   "source": [
    "#Ex:\n",
    "li = [1,2,3,4,5,6,7,8,9]\n",
    "odict= {}\n",
    "for i in li:\n",
    "    if i%2==0:\n",
    "        odict[i]=pow(i,3)\n",
    "print(odict)  "
   ]
  },
  {
   "cell_type": "code",
   "execution_count": 54,
   "metadata": {},
   "outputs": [
    {
     "data": {
      "text/plain": [
       "{2: 8, 4: 64, 6: 216, 8: 512}"
      ]
     },
     "execution_count": 54,
     "metadata": {},
     "output_type": "execute_result"
    }
   ],
   "source": [
    "{i: pow(i,3) for i in range(1,10) if i%2==0}"
   ]
  },
  {
   "cell_type": "code",
   "execution_count": 59,
   "metadata": {},
   "outputs": [],
   "source": [
    "#K:pow(V,3) for (k,v) in d}"
   ]
  },
  {
   "cell_type": "code",
   "execution_count": null,
   "metadata": {},
   "outputs": [],
   "source": [
    "#Functional Programming in Python\n",
    "  - what is functional Programming?\n",
    "     map()- mapping (each element to element)\n",
    "     filter() - filtering\n",
    "     reduce() - serial mathimatical operations\n",
    "     lambda - its keyword act as function without a name\n",
    "Note: these functions are taken other funtion names as its parameters"
   ]
  },
  {
   "cell_type": "code",
   "execution_count": null,
   "metadata": {},
   "outputs": [],
   "source": [
    "#map() syntax:\n",
    " map(funtionname,sequence)"
   ]
  },
  {
   "cell_type": "code",
   "execution_count": 65,
   "metadata": {},
   "outputs": [
    {
     "name": "stdout",
     "output_type": "stream",
     "text": [
      "{66, 99, 131, 75, 114, 51, 54, 86, 59}\n"
     ]
    }
   ],
   "source": [
    "#exmaple: (map() functions always return map objects)\n",
    "def addsum(x):\n",
    "    return x*x+50\n",
    "li = [1,2,3,4,5,6,7,8,9]\n",
    "data=set(map(addsum,li))\n",
    "print(data)"
   ]
  },
  {
   "cell_type": "code",
   "execution_count": null,
   "metadata": {},
   "outputs": [],
   "source": [
    "#filter(): to filter out the required data from given sequence\n",
    "#synatx: \n",
    "filter(functioname,sequence)"
   ]
  },
  {
   "cell_type": "code",
   "execution_count": 67,
   "metadata": {},
   "outputs": [
    {
     "name": "stdout",
     "output_type": "stream",
     "text": [
      "[30, 18, 65, 89, 100]\n"
     ]
    }
   ],
   "source": [
    "#to filter out who are eligible to vote in given list of ages\n",
    "def numFilter(x):\n",
    "    if x>=18:\n",
    "        return x\n",
    "data=filter(numFilter,(30,15,18,12,17,65,89,100,3))\n",
    "print(list(data))"
   ]
  },
  {
   "cell_type": "code",
   "execution_count": 75,
   "metadata": {},
   "outputs": [
    {
     "name": "stdout",
     "output_type": "stream",
     "text": [
      "enter stringsmam surya 121 535 lol python\n",
      "['mam', '121', '535', 'lol']\n"
     ]
    }
   ],
   "source": [
    "def stringFilter(s):\n",
    "    if s==s[::-1]:\n",
    "        return s\n",
    "data=filter(stringFilter,input(\"enter strings\").split())\n",
    "print(list(data))"
   ]
  },
  {
   "cell_type": "code",
   "execution_count": 93,
   "metadata": {},
   "outputs": [
    {
     "name": "stdout",
     "output_type": "stream",
     "text": [
      "720\n"
     ]
    }
   ],
   "source": [
    "#reduce (its function of predefined math modules)\n",
    "#syntax: reduce(functioname, sequence)\n",
    "from functools import reduce\n",
    "def fact(x,y):\n",
    "    return x*y\n",
    "fact1=reduce(fact,range(1,7))\n",
    "print(fact1)"
   ]
  },
  {
   "cell_type": "code",
   "execution_count": 96,
   "metadata": {},
   "outputs": [
    {
     "name": "stdout",
     "output_type": "stream",
     "text": [
      "210\n"
     ]
    }
   ],
   "source": [
    "def add(x,y):\n",
    "    return x+y\n",
    "data=reduce(add,[10,20,30,40,50,60])\n",
    "print(data)"
   ]
  },
  {
   "cell_type": "code",
   "execution_count": null,
   "metadata": {},
   "outputs": [],
   "source": [
    "#Lambda:\n",
    "#syntax:\n",
    "      lambda arguments : expression\n",
    "#Note: we can use any no.of arguments but its evalutes only one expression"
   ]
  },
  {
   "cell_type": "code",
   "execution_count": 97,
   "metadata": {},
   "outputs": [
    {
     "name": "stdout",
     "output_type": "stream",
     "text": [
      "125\n",
      "27\n"
     ]
    }
   ],
   "source": [
    "#ex:\n",
    "def cube(x):\n",
    "    return x*x*x\n",
    "result =lambda y:y*y*y\n",
    "print(cube(5))\n",
    "print(result(3))"
   ]
  },
  {
   "cell_type": "code",
   "execution_count": null,
   "metadata": {},
   "outputs": [],
   "source": [
    "#map() with lambda filter and reduce with lambda"
   ]
  },
  {
   "cell_type": "code",
   "execution_count": 99,
   "metadata": {},
   "outputs": [
    {
     "data": {
      "text/plain": [
       "[4, 6, 8, 90]"
      ]
     },
     "execution_count": 99,
     "metadata": {},
     "output_type": "execute_result"
    }
   ],
   "source": [
    "list(filter((lambda x:x%2==0),[23,4,5,6,7,8,90,85]))"
   ]
  },
  {
   "cell_type": "code",
   "execution_count": 104,
   "metadata": {},
   "outputs": [
    {
     "data": {
      "text/plain": [
       "550"
      ]
     },
     "execution_count": 104,
     "metadata": {},
     "output_type": "execute_result"
    }
   ],
   "source": [
    "#reduce with lambda:\n",
    "reduce((lambda x,y:x+y),[10,20,30,40,50,60,70,80,90,100])"
   ]
  },
  {
   "cell_type": "code",
   "execution_count": 102,
   "metadata": {},
   "outputs": [
    {
     "data": {
      "text/plain": [
       "804068"
      ]
     },
     "execution_count": 102,
     "metadata": {},
     "output_type": "execute_result"
    }
   ],
   "source": [
    "#map() filter() reduce() with lambda:\n",
    "li = [23,4,5,67,88,9,94,7458,394304]\n",
    "reduce(lambda x,y:x+y,filter(lambda x:x>20,map(lambda x:x+x,li)))"
   ]
  },
  {
   "cell_type": "code",
   "execution_count": null,
   "metadata": {},
   "outputs": [],
   "source": []
  }
 ],
 "metadata": {
  "kernelspec": {
   "display_name": "Python 3",
   "language": "python",
   "name": "python3"
  },
  "language_info": {
   "codemirror_mode": {
    "name": "ipython",
    "version": 3
   },
   "file_extension": ".py",
   "mimetype": "text/x-python",
   "name": "python",
   "nbconvert_exporter": "python",
   "pygments_lexer": "ipython3",
   "version": "3.8.5"
  }
 },
 "nbformat": 4,
 "nbformat_minor": 5
}
