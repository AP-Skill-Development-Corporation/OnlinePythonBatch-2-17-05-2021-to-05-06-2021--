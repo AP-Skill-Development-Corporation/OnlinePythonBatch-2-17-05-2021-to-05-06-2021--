{
 "cells": [
  {
   "cell_type": "code",
   "execution_count": null,
   "metadata": {},
   "outputs": [],
   "source": [
    "#Agenda of the day :\n",
    "  \n",
    "            1. Files in python\n",
    "            2. List Comprehension \n",
    "               Problem solving on above topics"
   ]
  },
  {
   "cell_type": "code",
   "execution_count": null,
   "metadata": {},
   "outputs": [],
   "source": [
    "    #   What is file?\n",
    "    \n",
    "    - Files are named locations on our disk to store related information in a Permanet way.\n",
    "    \n",
    "    Key Points:\n",
    "         1. We must store our files in a non-volatile memory (Hard disk) - ROM (Read Only Memory)\n",
    "            \n",
    "    #Why use files in Programming ?\n",
    "      \n",
    "        1. for security of out data\n",
    "        2. easy to access files in organized way\n",
    "        3. for reusable\n",
    "    "
   ]
  },
  {
   "cell_type": "code",
   "execution_count": null,
   "metadata": {},
   "outputs": [],
   "source": [
    "  #Example:\n",
    "1.  Small amount of data -  (files)    - Very Common Traditonal System \n",
    "for storing 250 + students of python batch2 in our system\n",
    "             We use excel sheets to store all your data \n",
    "    \n",
    "    \n",
    "2. Huge amount of data: (Databases)-servers\n",
    "    Ex: employee data of any software \n",
    "        \n",
    "3. Very Very huge amount of data: (Big Data)\n",
    "    Ex: Distributed System Server"
   ]
  },
  {
   "cell_type": "code",
   "execution_count": null,
   "metadata": {},
   "outputs": [],
   "source": [
    "#In Python File Handing follow some order:\n",
    " \n",
    "         What is file handling or file data processing ?\n",
    "        - Its a process of performing the some operations of files to perform required tasks\n",
    "               or\n",
    "            To get the specific data from the files by manupulating, editin..etc"
   ]
  },
  {
   "cell_type": "code",
   "execution_count": null,
   "metadata": {},
   "outputs": [],
   "source": [
    "#Order:\n",
    "    1. Open a file\n",
    "    2. read a file or write to file (Operations)\n",
    "    3. close the file (we must close the files ofter our work)\n",
    "    \n",
    "     reasons to close the files?\n",
    "         1. If its not closed it may be accessed by someone to hack (may mis use your data)\n",
    "         2. we must freeze our data everytime after our operations\n",
    "         3. Effective resource management\n",
    "         4. Good Programming practice."
   ]
  },
  {
   "cell_type": "code",
   "execution_count": null,
   "metadata": {},
   "outputs": [],
   "source": [
    "#Opening a file in python:\n",
    "   for open a file in python we have open()\n",
    "  syntax:\n",
    "     open(filename,mode)\n",
    "         -Here file name if name of your created file\n",
    "         -mode is what type of operation will be performed on that file."
   ]
  },
  {
   "cell_type": "code",
   "execution_count": 1,
   "metadata": {},
   "outputs": [
    {
     "data": {
      "text/plain": [
       "<_io.TextIOWrapper name='demo.txt' mode='x' encoding='cp1252'>"
      ]
     },
     "execution_count": 1,
     "metadata": {},
     "output_type": "execute_result"
    }
   ],
   "source": [
    "#ex:\n",
    "open(\"demo.txt\",\"x\")"
   ]
  },
  {
   "cell_type": "code",
   "execution_count": null,
   "metadata": {},
   "outputs": [],
   "source": []
  },
  {
   "cell_type": "code",
   "execution_count": null,
   "metadata": {},
   "outputs": [],
   "source": [
    "#File handing:\n",
    "            1. File modes (x,r,w,a,t,b)\n",
    "            2. File operations (open,read,write,close)\n",
    "            3. File methods (write(),writelines(),read(),readline(),readlines())"
   ]
  },
  {
   "cell_type": "code",
   "execution_count": null,
   "metadata": {},
   "outputs": [],
   "source": [
    "#File Modes:\n",
    "     Mode                                   Operation\n",
    "    \n",
    "    \"x\"          -               Opens for exclusive file creation\n",
    "    \"r\"          -        opens file for reading\n",
    "    \"w\"          -      opens a file for writing (create a file new file if it not exist and write\n",
    "                                                 data in it)\n",
    "                               or \n",
    "                          erase previous data in that file if it is exits with data.\n",
    "     \n",
    "    \"a\"          -   open a file for appending the data end of the file with erasing \n",
    "                     the previous data.\n",
    "    \"t\"   -           text mode\n",
    "     \"b\"  -           binary mode"
   ]
  },
  {
   "cell_type": "code",
   "execution_count": null,
   "metadata": {},
   "outputs": [],
   "source": [
    "#File Methods:\n",
    "write operation:\n",
    "    \n",
    "write() - its write some size of data into file.\n",
    "writelines()- to write list of lines into a file\n",
    "read operation:\n",
    "    \n",
    "read() - to read entire data in a file at once. (start character to end character.)\n",
    "read(10) - its reads first 5 characters of file data.\n",
    "readline() - its reads a one line at a time\n",
    "readlines() - its returns the data of your file in a list of lines.\n"
   ]
  },
  {
   "cell_type": "code",
   "execution_count": 4,
   "metadata": {},
   "outputs": [],
   "source": [
    "#create and write to a file:\n",
    "f=open(\"python1.txt\",\"x\")"
   ]
  },
  {
   "cell_type": "code",
   "execution_count": null,
   "metadata": {},
   "outputs": [],
   "source": [
    "#Os module: (Operating System Module)\n",
    "#syntax:\n",
    "    modulename.methodname()"
   ]
  },
  {
   "cell_type": "code",
   "execution_count": 6,
   "metadata": {},
   "outputs": [
    {
     "data": {
      "text/plain": [
       "'C:\\\\Users\\\\Lenovo\\\\Desktop\\\\Python Workshop'"
      ]
     },
     "execution_count": 6,
     "metadata": {},
     "output_type": "execute_result"
    }
   ],
   "source": [
    "#to know the current working directory\n",
    "import os\n",
    "os.getcwd()"
   ]
  },
  {
   "cell_type": "code",
   "execution_count": 7,
   "metadata": {},
   "outputs": [],
   "source": [
    "#To change the one directory to another directory\n",
    "os.chdir(\"E:\\external_backup\")"
   ]
  },
  {
   "cell_type": "code",
   "execution_count": 8,
   "metadata": {},
   "outputs": [
    {
     "data": {
      "text/plain": [
       "'E:\\\\external_backup'"
      ]
     },
     "execution_count": 8,
     "metadata": {},
     "output_type": "execute_result"
    }
   ],
   "source": [
    "os.getcwd()"
   ]
  },
  {
   "cell_type": "code",
   "execution_count": 9,
   "metadata": {},
   "outputs": [
    {
     "data": {
      "text/plain": [
       "<_io.TextIOWrapper name='newfile.txt' mode='x' encoding='cp1252'>"
      ]
     },
     "execution_count": 9,
     "metadata": {},
     "output_type": "execute_result"
    }
   ],
   "source": [
    "open(\"newfile.txt\",\"x\")"
   ]
  },
  {
   "cell_type": "code",
   "execution_count": 10,
   "metadata": {},
   "outputs": [],
   "source": [
    "os.chdir(\"C:\\\\Users\\\\Lenovo\\\\Desktop\\\\Python Workshop\")"
   ]
  },
  {
   "cell_type": "code",
   "execution_count": 11,
   "metadata": {},
   "outputs": [
    {
     "data": {
      "text/plain": [
       "'C:\\\\Users\\\\Lenovo\\\\Desktop\\\\Python Workshop'"
      ]
     },
     "execution_count": 11,
     "metadata": {},
     "output_type": "execute_result"
    }
   ],
   "source": [
    "os.getcwd()"
   ]
  },
  {
   "cell_type": "code",
   "execution_count": 12,
   "metadata": {},
   "outputs": [
    {
     "data": {
      "text/plain": [
       "['.ipynb_checkpoints',\n",
       " 'Day-14 File Handling in Python.ipynb',\n",
       " 'Day-14 Notebook.txt',\n",
       " 'demo.txt',\n",
       " 'python.txt',\n",
       " 'python1.txt']"
      ]
     },
     "execution_count": 12,
     "metadata": {},
     "output_type": "execute_result"
    }
   ],
   "source": [
    "#To know the list of file in current working directory:\n",
    "os.listdir()"
   ]
  },
  {
   "cell_type": "code",
   "execution_count": 19,
   "metadata": {},
   "outputs": [
    {
     "ename": "PermissionError",
     "evalue": "[WinError 32] The process cannot access the file because it is being used by another process: 'python1.txt' -> 'new1.txt'",
     "output_type": "error",
     "traceback": [
      "\u001b[1;31m---------------------------------------------------------------------------\u001b[0m",
      "\u001b[1;31mPermissionError\u001b[0m                           Traceback (most recent call last)",
      "\u001b[1;32m<ipython-input-19-6be40100c529>\u001b[0m in \u001b[0;36m<module>\u001b[1;34m\u001b[0m\n\u001b[1;32m----> 1\u001b[1;33m \u001b[0mos\u001b[0m\u001b[1;33m.\u001b[0m\u001b[0mrename\u001b[0m\u001b[1;33m(\u001b[0m\u001b[1;34m\"python1.txt\"\u001b[0m\u001b[1;33m,\u001b[0m\u001b[1;34m\"new1.txt\"\u001b[0m\u001b[1;33m)\u001b[0m\u001b[1;33m\u001b[0m\u001b[1;33m\u001b[0m\u001b[0m\n\u001b[0m",
      "\u001b[1;31mPermissionError\u001b[0m: [WinError 32] The process cannot access the file because it is being used by another process: 'python1.txt' -> 'new1.txt'"
     ]
    }
   ],
   "source": [
    "os.rename(\"python1.txt\",\"new1.txt\")"
   ]
  },
  {
   "cell_type": "code",
   "execution_count": 18,
   "metadata": {},
   "outputs": [
    {
     "data": {
      "text/plain": [
       "'C:\\\\Users\\\\Lenovo\\\\Desktop\\\\Python Workshop'"
      ]
     },
     "execution_count": 18,
     "metadata": {},
     "output_type": "execute_result"
    }
   ],
   "source": [
    "os.getcwd()"
   ]
  },
  {
   "cell_type": "code",
   "execution_count": 20,
   "metadata": {},
   "outputs": [
    {
     "data": {
      "text/plain": [
       "['.ipynb_checkpoints',\n",
       " 'Day-14 File Handling in Python.ipynb',\n",
       " 'Day-14 Notebook.txt',\n",
       " 'demo.txt',\n",
       " 'python.txt',\n",
       " 'python1.txt']"
      ]
     },
     "execution_count": 20,
     "metadata": {},
     "output_type": "execute_result"
    }
   ],
   "source": [
    "os.listdir()"
   ]
  },
  {
   "cell_type": "code",
   "execution_count": 21,
   "metadata": {},
   "outputs": [],
   "source": [
    "os.mkdir(\"day14\")"
   ]
  },
  {
   "cell_type": "code",
   "execution_count": 22,
   "metadata": {},
   "outputs": [],
   "source": [
    "os.rmdir(\"day14\")"
   ]
  },
  {
   "cell_type": "code",
   "execution_count": 23,
   "metadata": {},
   "outputs": [
    {
     "data": {
      "text/plain": [
       "'C:\\\\Users\\\\Lenovo\\\\Desktop\\\\Python Workshop'"
      ]
     },
     "execution_count": 23,
     "metadata": {},
     "output_type": "execute_result"
    }
   ],
   "source": [
    "#Changing of directory\n",
    "os.getcwd()"
   ]
  },
  {
   "cell_type": "code",
   "execution_count": 24,
   "metadata": {},
   "outputs": [],
   "source": [
    "#to change into another directory:\n",
    "os.chdir(\"F:\\Windows10Upgrade\")"
   ]
  },
  {
   "cell_type": "code",
   "execution_count": 25,
   "metadata": {},
   "outputs": [
    {
     "data": {
      "text/plain": [
       "'F:\\\\Windows10Upgrade'"
      ]
     },
     "execution_count": 25,
     "metadata": {},
     "output_type": "execute_result"
    }
   ],
   "source": [
    "#to check directory is changed or not\n",
    "os.getcwd()"
   ]
  },
  {
   "cell_type": "code",
   "execution_count": 27,
   "metadata": {},
   "outputs": [],
   "source": []
  },
  {
   "cell_type": "code",
   "execution_count": 28,
   "metadata": {},
   "outputs": [],
   "source": [
    "os.chdir(\"C:\\\\Users\\\\Lenovo\\\\Desktop\\\\Python Workshop\")"
   ]
  },
  {
   "cell_type": "code",
   "execution_count": 38,
   "metadata": {},
   "outputs": [],
   "source": [
    "#Writing data into a file:\n",
    "f=open(\"cse.txt\",\"w\")\n",
    "f.write(\"Today is Tuesday\\n\")  #Its write only one line\n",
    "f.write(\" hello Everyone\")\n",
    "f.writelines([\"\\n1.Python is fun\\n\",\"2.Data Science\\n\",\"3.Machine Learning\\n\",\"4.Django\\n\",\"5.AI\"])\n",
    "f.close()"
   ]
  },
  {
   "cell_type": "code",
   "execution_count": 60,
   "metadata": {},
   "outputs": [
    {
     "name": "stdout",
     "output_type": "stream",
     "text": [
      "['Today is Tuesday\\n', ' hello Everyone\\n', '1.Python is fun\\n', '2.Data Science\\n', '3.Machine Learning\\n', '4.Django\\n', '5.AI']\n"
     ]
    }
   ],
   "source": [
    "#Reading data from a file:\n",
    "f= open(\"cse.txt\",\"r\")\n",
    "#f.read()  #reads the entire data at once\n",
    "#print(f.read(6))\n",
    "#print(f.read(6))    #reads the data with some size \n",
    "#print(f.read(16))\n",
    "#print(f.readline())    #reads one line at a time\n",
    "#print(f.readline())\n",
    "print(f.readlines()) #returns data in the form of list of lines"
   ]
  },
  {
   "cell_type": "code",
   "execution_count": 65,
   "metadata": {},
   "outputs": [],
   "source": [
    "#Binary file\n",
    "f=open(\"binaryfile\",\"wb\")\n",
    "data = [123]\n",
    "f.write(bytearray(data))\n",
    "f.close()"
   ]
  },
  {
   "cell_type": "code",
   "execution_count": 66,
   "metadata": {},
   "outputs": [
    {
     "data": {
      "text/plain": [
       "b'{'"
      ]
     },
     "execution_count": 66,
     "metadata": {},
     "output_type": "execute_result"
    }
   ],
   "source": [
    "f= open(\"binaryfile\",\"rb\")\n",
    "f.read()"
   ]
  },
  {
   "cell_type": "code",
   "execution_count": null,
   "metadata": {},
   "outputs": [],
   "source": []
  }
 ],
 "metadata": {
  "kernelspec": {
   "display_name": "Python 3",
   "language": "python",
   "name": "python3"
  },
  "language_info": {
   "codemirror_mode": {
    "name": "ipython",
    "version": 3
   },
   "file_extension": ".py",
   "mimetype": "text/x-python",
   "name": "python",
   "nbconvert_exporter": "python",
   "pygments_lexer": "ipython3",
   "version": "3.8.5"
  }
 },
 "nbformat": 4,
 "nbformat_minor": 5
}
