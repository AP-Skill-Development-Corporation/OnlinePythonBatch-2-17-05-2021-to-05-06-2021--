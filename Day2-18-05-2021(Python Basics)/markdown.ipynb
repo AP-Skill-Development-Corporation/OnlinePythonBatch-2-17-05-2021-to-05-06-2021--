{
 "cells": [
  {
   "cell_type": "markdown",
   "metadata": {},
   "source": [
    "## Literate Programming\n",
    "- Prepare document and do a codeing meanwhile."
   ]
  },
  {
   "cell_type": "markdown",
   "metadata": {},
   "source": [
    "## Markdown Shortcuts\n",
    "### Bold\n",
    "**python coding**\n",
    "\n",
    "### Italic\n",
    "_Python_\n",
    "*python*\n",
    "_python_\n",
    "## Bold and Italic\n",
    "*__Python coding__*"
   ]
  },
  {
   "cell_type": "markdown",
   "metadata": {},
   "source": [
    "## shortcuts\n",
    "- ESC+M - to convert cell into markdown\n",
    "- ESC+y - to convert cell into code\n",
    "- SHIFT+Enter - to run cell\n",
    "- ESC+L - to tooggle the line number"
   ]
  },
  {
   "cell_type": "markdown",
   "metadata": {},
   "source": [
    "## Inserting Images \n",
    "![name of the image](url of image)\n",
    "![image](https://engineering.fb.com/wp-content/uploads/2016/05/2000px-Python-logo-notext.svg_.png)\n",
    "\n",
    "<img src=\"https://engineering.fb.com/wp-content/uploads/2016/05/2000px-Python-logo-notext.svg_.png\" width=\"100px\">"
   ]
  },
  {
   "cell_type": "markdown",
   "metadata": {},
   "source": [
    "## Inserting Url's\n",
    "syntax-[url name](address of url)\n",
    "\n",
    "[gmail](https://mail.google.com/)\n",
    "\n",
    "[markdown cheet sheet link](https://www.markdownguide.org/cheat-sheet/)"
   ]
  },
  {
   "cell_type": "markdown",
   "metadata": {},
   "source": [
    "## Task \n",
    "- Insert your college or company website "
   ]
  },
  {
   "cell_type": "markdown",
   "metadata": {},
   "source": [
    "## Creating tables\n",
    "|name|age|marks|\n",
    "|----|---|-----|\n",
    "|madhu|25|85|\n",
    "|priya|22|67|"
   ]
  },
  {
   "cell_type": "markdown",
   "metadata": {},
   "source": [
    "## Crating a Block quotes\n",
    "> gsdvhkdsjlnclkasjcvgjv\n",
    ">> gjsdghgwquih\n",
    ">>> dxfcgvhjklkbhxcfvg;lkjhgfcgvgbh"
   ]
  },
  {
   "cell_type": "markdown",
   "metadata": {},
   "source": [
    "## Inserting a code in markdown\n",
    "`\n",
    "#include <stdio.h>\n",
    "void main()\n",
    "{\n",
    "printf(\"hello students\");\n",
    "}\n",
    "`"
   ]
  },
  {
   "cell_type": "markdown",
   "metadata": {},
   "source": [
    "\n"
   ]
  },
  {
   "cell_type": "code",
   "execution_count": null,
   "metadata": {},
   "outputs": [],
   "source": []
  }
 ],
 "metadata": {
  "kernelspec": {
   "display_name": "Python 3",
   "language": "python",
   "name": "python3"
  },
  "language_info": {
   "codemirror_mode": {
    "name": "ipython",
    "version": 3
   },
   "file_extension": ".py",
   "mimetype": "text/x-python",
   "name": "python",
   "nbconvert_exporter": "python",
   "pygments_lexer": "ipython3",
   "version": "3.8.5"
  }
 },
 "nbformat": 4,
 "nbformat_minor": 4
}
