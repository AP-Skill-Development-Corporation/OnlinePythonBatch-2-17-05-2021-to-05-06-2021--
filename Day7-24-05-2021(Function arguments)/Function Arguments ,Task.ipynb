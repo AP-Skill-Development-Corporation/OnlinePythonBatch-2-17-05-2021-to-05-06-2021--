{
 "cells": [
  {
   "cell_type": "markdown",
   "metadata": {},
   "source": [
    "## Prime number-  number should be divisble by 1 and itself ( 2 factors) \n",
    "- Find factors from 1 -up to the number\n",
    "- ex: 2,3,5,7,..etc\n"
   ]
  },
  {
   "cell_type": "markdown",
   "metadata": {},
   "source": [
    "\n",
    "### 2 possibilites\n",
    "## 1.\n",
    "- every number should divisible by 1,(n>1)\n",
    "- negelects that 1\n",
    "- find the factors from 2 up number-1\n",
    "## 2. \n",
    "-\n",
    "- count the factors  from 1 to the number\n",
    "- factors count=2==>prime"
   ]
  },
  {
   "cell_type": "code",
   "execution_count": 6,
   "metadata": {},
   "outputs": [
    {
     "name": "stdout",
     "output_type": "stream",
     "text": [
      "7\n",
      "7 prime\n"
     ]
    }
   ],
   "source": [
    "n=int(input()) ## n=6\n",
    "if n>1:\n",
    "    for i in range(2,n): # 2,3,4,5,6  --n-1\n",
    "        if n%i==0:#7/2,7/3,7/4--7/6-1/6\n",
    "            print(n ,\" is not prime\")\n",
    "            break\n",
    "    else:\n",
    "        print(n,\"prime\")\n",
    "            "
   ]
  },
  {
   "cell_type": "code",
   "execution_count": 12,
   "metadata": {},
   "outputs": [
    {
     "name": "stdout",
     "output_type": "stream",
     "text": [
      "2\n",
      "2 is a prime number\n"
     ]
    }
   ],
   "source": [
    "f=0\n",
    "n=int(input())\n",
    "for i in range(1,n+1):\n",
    "    if  n%i==0:\n",
    "        f+=1\n",
    "if f==2:\n",
    "    print(n,\"is a prime number\")\n",
    "else:\n",
    "    print(n, \"is not a prime number\")\n",
    "    \n",
    "        "
   ]
  },
  {
   "cell_type": "code",
   "execution_count": 15,
   "metadata": {},
   "outputs": [
    {
     "name": "stdout",
     "output_type": "stream",
     "text": [
      "prime number: 2\n",
      "prime number: 3\n",
      "prime number: 5\n",
      "prime number: 7\n"
     ]
    }
   ],
   "source": [
    "i=1\n",
    "while i<=10:\n",
    "    fact=0\n",
    "    for  j in range(1,i+1):\n",
    "        if i%j==0:\n",
    "            fact+=1\n",
    "    if fact==2:\n",
    "        print(\"prime number:\",i)\n",
    "    i+=1  "
   ]
  },
  {
   "cell_type": "markdown",
   "metadata": {},
   "source": [
    "## Generation of prime numbers from 50  to 100\n",
    "- Define a function to check prime number or not\n",
    "- call this function to check prime numbers from 50 to 100"
   ]
  },
  {
   "cell_type": "code",
   "execution_count": 16,
   "metadata": {},
   "outputs": [],
   "source": [
    "def isprime(n):\n",
    "    f=0\n",
    "    for i in range(1,n+1):\n",
    "        if n%i==0:\n",
    "            f+=1\n",
    "    if f==2:\n",
    "        return True\n",
    "    return False"
   ]
  },
  {
   "cell_type": "code",
   "execution_count": 19,
   "metadata": {},
   "outputs": [
    {
     "name": "stdout",
     "output_type": "stream",
     "text": [
      "6\n"
     ]
    },
    {
     "data": {
      "text/plain": [
       "False"
      ]
     },
     "execution_count": 19,
     "metadata": {},
     "output_type": "execute_result"
    }
   ],
   "source": [
    "isprime(int(input()))"
   ]
  },
  {
   "cell_type": "code",
   "execution_count": 27,
   "metadata": {},
   "outputs": [],
   "source": [
    "## generage the prime numbers from 50-100\n",
    "def prime_ranges(lb,ub):\n",
    "    for i in range(lb,ub+1): # i=50,51,52--99,100\n",
    "        if isprime(i)==True:\n",
    "            print(i,end=' ')"
   ]
  },
  {
   "cell_type": "code",
   "execution_count": 28,
   "metadata": {},
   "outputs": [
    {
     "name": "stdout",
     "output_type": "stream",
     "text": [
      "100\n",
      "200\n",
      "101 103 107 109 113 127 131 137 139 149 151 157 163 167 173 179 181 191 193 197 199 "
     ]
    }
   ],
   "source": [
    "lb=int(input())\n",
    "ub=int(input())\n",
    "prime_ranges(lb,ub)"
   ]
  },
  {
   "cell_type": "code",
   "execution_count": 34,
   "metadata": {},
   "outputs": [],
   "source": [
    "def is_leap(year):\n",
    "    if year%4==0 and year%100!=0 or year%400==0:\n",
    "        return True\n",
    "    return False\n",
    "    "
   ]
  },
  {
   "cell_type": "code",
   "execution_count": 33,
   "metadata": {},
   "outputs": [
    {
     "name": "stdout",
     "output_type": "stream",
     "text": [
      "not a leap year\n"
     ]
    }
   ],
   "source": [
    "is_leap(2021)"
   ]
  },
  {
   "cell_type": "code",
   "execution_count": 35,
   "metadata": {},
   "outputs": [],
   "source": [
    " ## leap years in ranges\n",
    "def leap_range(a,b):\n",
    "    for i in range(a,b+1):\n",
    "        if is_leap(i)==True:\n",
    "            print(i,end=' ')\n",
    "        "
   ]
  },
  {
   "cell_type": "code",
   "execution_count": 36,
   "metadata": {},
   "outputs": [
    {
     "name": "stdout",
     "output_type": "stream",
     "text": [
      "2000 2004 2008 "
     ]
    }
   ],
   "source": [
    "leap_range(2000,2010)"
   ]
  },
  {
   "cell_type": "markdown",
   "metadata": {},
   "source": [
    "\n",
    "## variables \n",
    "-2 types\n",
    "- global\n",
    "    - out side the function\n",
    "- local\n",
    "    - in side the function only\n",
    "- The input or data for the function\n",
    "~~~\n",
    " Syntax:\n",
    " def fumction(parameters):\n",
    "    satements 1\n",
    "      .\n",
    "      .\n",
    "~~~"
   ]
  },
  {
   "cell_type": "markdown",
   "metadata": {},
   "source": [
    "## Function Parameters\n",
    "### parameters- arguments\n",
    "- parameters-- names of varibles\n",
    "- arguments-- values of varibles\n",
    "1. Positional Arguments\n",
    "2. keyword Arguments\n",
    "3. Default Arguments\n",
    "4. Variable Length Arguments\n",
    "5. Keyword Length Arguments"
   ]
  },
  {
   "cell_type": "markdown",
   "metadata": {},
   "source": [
    "## 1. Positional Arguments\n",
    "- can folows position or order\n"
   ]
  },
  {
   "cell_type": "code",
   "execution_count": 42,
   "metadata": {},
   "outputs": [
    {
     "name": "stdout",
     "output_type": "stream",
     "text": [
      "27\n",
      "rrr\n",
      "ntr\n"
     ]
    }
   ],
   "source": [
    "def position(name,age,marks):\n",
    "    print(name)\n",
    "    print(age)\n",
    "    print(marks)\n",
    "position(27,\"rrr\",\"ntr\")"
   ]
  },
  {
   "cell_type": "markdown",
   "metadata": {},
   "source": [
    "## 2. keyword Arguments\n",
    "- follow key=values"
   ]
  },
  {
   "cell_type": "code",
   "execution_count": 47,
   "metadata": {},
   "outputs": [
    {
     "name": "stdout",
     "output_type": "stream",
     "text": [
      "asd\n",
      "67\n",
      "89\n"
     ]
    }
   ],
   "source": [
    "def keywordArg(name,age,marks):\n",
    "    print(name)\n",
    "    print(age)\n",
    "    print(marks)\n",
    "keywordArg(age=67,marks=89,name=\"asd\")"
   ]
  },
  {
   "cell_type": "markdown",
   "metadata": {},
   "source": [
    "## 3. Default Arguments\n",
    "- having default arguments\n"
   ]
  },
  {
   "cell_type": "code",
   "execution_count": 83,
   "metadata": {},
   "outputs": [
    {
     "name": "stdout",
     "output_type": "stream",
     "text": [
      "apssdc\n",
      "23\n",
      "75\n"
     ]
    }
   ],
   "source": [
    "def DefaultdArg(name,age=23,marks=75):\n",
    "    print(name)\n",
    "    print(age)\n",
    "    print(marks)\n",
    "DefaultdArg(\"apssdc\")"
   ]
  },
  {
   "cell_type": "code",
   "execution_count": 84,
   "metadata": {},
   "outputs": [
    {
     "name": "stdout",
     "output_type": "stream",
     "text": [
      "apssdc\n",
      "34\n",
      "67\n"
     ]
    }
   ],
   "source": [
    "DefaultdArg(\"apssdc\",34,67)"
   ]
  },
  {
   "cell_type": "markdown",
   "metadata": {},
   "source": [
    "## 4. Variable Length Arguments\n",
    "- *parameter\n",
    "- can pass no of number of data(exactly not known by you)\n",
    "- return tuple of arguments"
   ]
  },
  {
   "cell_type": "code",
   "execution_count": 60,
   "metadata": {},
   "outputs": [],
   "source": [
    "def Variable_length_arguments(*x):## un know length of data\n",
    "    print(x)\n",
    "    "
   ]
  },
  {
   "cell_type": "code",
   "execution_count": 61,
   "metadata": {},
   "outputs": [
    {
     "name": "stdout",
     "output_type": "stream",
     "text": [
      "(1, 4, 6, 7, 8, 'apssdc')\n"
     ]
    }
   ],
   "source": [
    "Variable_length_arguments(1,4,6,7,8,\"apssdc\")"
   ]
  },
  {
   "cell_type": "markdown",
   "metadata": {},
   "source": [
    "## 5. Keyword Length Arguments\n",
    "- **Parameter\n",
    "### Return result in the format dictionary\n",
    "- key:value\n"
   ]
  },
  {
   "cell_type": "code",
   "execution_count": 71,
   "metadata": {},
   "outputs": [],
   "source": [
    "def Keword_length_Arguments(**n):\n",
    "    \n",
    "    print(n)\n",
    "    \n",
    "    "
   ]
  },
  {
   "cell_type": "code",
   "execution_count": 72,
   "metadata": {},
   "outputs": [
    {
     "name": "stdout",
     "output_type": "stream",
     "text": [
      "{'name': ['apssdc', 'ap', 1, 2, 3], 'clg': 'svce', 'loc': 'vzda'}\n"
     ]
    }
   ],
   "source": [
    "Keword_length_Arguments(name=['apssdc','ap',1,2,3],clg=\"svce\",loc=\"vzda\")"
   ]
  },
  {
   "cell_type": "markdown",
   "metadata": {},
   "source": [
    "## Function Recursion \n",
    "- call the function defition  inside function defination "
   ]
  },
  {
   "cell_type": "code",
   "execution_count": 76,
   "metadata": {},
   "outputs": [],
   "source": [
    "def fun(a): #a=2\n",
    "    if a>0: #2>1\n",
    "        r=a+fun(a-1) ## 2+fun(2-1)==2+fun(1)\n",
    "    else:\n",
    "        r=0\n",
    "    return r\n",
    "\n",
    "        "
   ]
  },
  {
   "cell_type": "code",
   "execution_count": 79,
   "metadata": {},
   "outputs": [
    {
     "data": {
      "text/plain": [
       "0"
      ]
     },
     "execution_count": 79,
     "metadata": {},
     "output_type": "execute_result"
    }
   ],
   "source": [
    "fun(-1)"
   ]
  },
  {
   "cell_type": "markdown",
   "metadata": {},
   "source": [
    "## Write a program to find out a factorial of a given number\n",
    "\n",
    "5=5*4*3*2*1\n",
    "\n",
    "##  create a function to do this factorial number"
   ]
  },
  {
   "cell_type": "markdown",
   "metadata": {},
   "source": [
    "## Write program to count the factors of a given number\n",
    "### ex=6--1 to 6\n",
    "-  1,2,3\n",
    "- Sum=1+2+3\n",
    "\n"
   ]
  },
  {
   "cell_type": "markdown",
   "metadata": {},
   "source": [
    "## write a program to check the given number is perfect or not\n",
    "## factors of the given number==number\n",
    "- factors of 6 is 1,2,3 and not include 6\n",
    "-  6==1+2+3"
   ]
  },
  {
   "cell_type": "code",
   "execution_count": 94,
   "metadata": {},
   "outputs": [],
   "source": [
    "def fact(a):\n",
    "    if  a==0 or a==1:\n",
    "        return 1\n",
    "    else: \n",
    "        return a*fact(a-1)# 5*fact(5-1)\n",
    "        \n",
    "        "
   ]
  },
  {
   "cell_type": "code",
   "execution_count": 95,
   "metadata": {},
   "outputs": [
    {
     "data": {
      "text/plain": [
       "120"
      ]
     },
     "execution_count": 95,
     "metadata": {},
     "output_type": "execute_result"
    }
   ],
   "source": [
    "fact(5)"
   ]
  },
  {
   "cell_type": "code",
   "execution_count": 99,
   "metadata": {},
   "outputs": [
    {
     "name": "stdout",
     "output_type": "stream",
     "text": [
      "4\n"
     ]
    },
    {
     "data": {
      "text/plain": [
       "24"
      ]
     },
     "execution_count": 99,
     "metadata": {},
     "output_type": "execute_result"
    }
   ],
   "source": [
    "def fact(n):\n",
    "    if n>0 and n!=1:\n",
    "        n=n*fact(n-1)\n",
    "    return n\n",
    "fact(int(input()))\n"
   ]
  },
  {
   "cell_type": "code",
   "execution_count": null,
   "metadata": {},
   "outputs": [],
   "source": []
  }
 ],
 "metadata": {
  "kernelspec": {
   "display_name": "Python 3",
   "language": "python",
   "name": "python3"
  },
  "language_info": {
   "codemirror_mode": {
    "name": "ipython",
    "version": 3
   },
   "file_extension": ".py",
   "mimetype": "text/x-python",
   "name": "python",
   "nbconvert_exporter": "python",
   "pygments_lexer": "ipython3",
   "version": "3.8.5"
  }
 },
 "nbformat": 4,
 "nbformat_minor": 4
}
