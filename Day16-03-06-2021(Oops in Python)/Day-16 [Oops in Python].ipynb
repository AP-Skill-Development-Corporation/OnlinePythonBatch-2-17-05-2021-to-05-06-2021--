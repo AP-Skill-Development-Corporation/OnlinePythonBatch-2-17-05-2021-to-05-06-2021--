{
 "cells": [
  {
   "cell_type": "code",
   "execution_count": null,
   "metadata": {},
   "outputs": [],
   "source": [
    "#Agenda of the Today:\n",
    "         1. Object Oriented Programming in Python\n",
    "    "
   ]
  },
  {
   "cell_type": "code",
   "execution_count": null,
   "metadata": {},
   "outputs": [],
   "source": [
    "#Introduction about Oops?\n",
    "    ---In 1960's Oops was initiated by alan kan\n",
    "    --- Initially a language called simula which is the first programming \n",
    "        with object oriented features.\n",
    "    --1990's is was avaiable in market with help of c++\n",
    "    --after that it was adopted by many programming languages.\n",
    "    \n",
    "#Where we can use oops mostly:\n",
    "   1. Real-time systems\n",
    "   2. Artificial Intelligence \n",
    "   3. Expert systems\n",
    "   4. client-server systems\n",
    "   5. Object-Oriented Databases, and etc.\n",
    "    \n",
    " #What is the Object Oriented Programming?\n",
    "\n",
    "---Its a different method of structuring a software program by bundling \n",
    " the properties and behaviors into individual objects.\n",
    "      (or)\n",
    "-- Its a programming paradigm that deals with classes and objects.\n",
    "\n",
    "--Its used to structure a software program into simple,resuable pieces of code.\n",
    "    \n",
    "#Examples of oops:\n",
    "  1. java\n",
    "  2. javascript\n",
    "  3. C++\n",
    "  4. python\n"
   ]
  },
  {
   "cell_type": "code",
   "execution_count": null,
   "metadata": {},
   "outputs": [],
   "source": [
    "#why use choose oops than pop?\n",
    "  Oops vs pop?\n",
    "#Key Points:  \n",
    "\n",
    "  1. pop- is done by functions    \n",
    "  2. Oops is done by divides the program into objects.\n",
    "   \n",
    "  "
   ]
  },
  {
   "cell_type": "code",
   "execution_count": null,
   "metadata": {},
   "outputs": [],
   "source": [
    "#Contents of oops?\n",
    "  1. class\n",
    "  2. objects\n",
    "  3. method\n",
    "  4. Inheritance\n",
    "  5. Encapsulation\n",
    "  6. Polymorphism\n",
    "  7. Data Abstraction"
   ]
  },
  {
   "cell_type": "code",
   "execution_count": null,
   "metadata": {},
   "outputs": [],
   "source": [
    "#1. class?\n",
    "  What is class?\n",
    "    - A class is a collection of objects\n",
    "        or \n",
    "     A class is a blueprint of the object.\n",
    "#Note: its makes the code as more managable."
   ]
  },
  {
   "cell_type": "code",
   "execution_count": null,
   "metadata": {},
   "outputs": [],
   "source": [
    "#How to create classes?\n",
    "#syntax:\n",
    "class class_name:\n",
    "    #class body"
   ]
  },
  {
   "cell_type": "code",
   "execution_count": null,
   "metadata": {},
   "outputs": [],
   "source": [
    "#ex:\n",
    "student-object-class-csea\n",
    " properties-name,rollnum,emaild,phone num\n",
    " behaviour-topper,talk-active,silent,backbencher"
   ]
  },
  {
   "cell_type": "code",
   "execution_count": 3,
   "metadata": {},
   "outputs": [],
   "source": [
    "#Class define\n",
    "class car:\n",
    "    pass"
   ]
  },
  {
   "cell_type": "code",
   "execution_count": null,
   "metadata": {},
   "outputs": [],
   "source": [
    "#2. Object and Object Instantiation:\n",
    "  what is object ?\n",
    "    - An object (instance) is an instatiation of a class.\n",
    "#Note: when the class is defined only the description or blueprint of\n",
    "#a object is defined , here there is no memory allocation."
   ]
  },
  {
   "cell_type": "code",
   "execution_count": null,
   "metadata": {},
   "outputs": [],
   "source": [
    "# what is instantiation?\n",
    "  -its creating a new object/instance of a class."
   ]
  },
  {
   "cell_type": "code",
   "execution_count": null,
   "metadata": {},
   "outputs": [],
   "source": [
    "#How to create objects?\n",
    " #Syntax:\n",
    "     variablename = classname()\n",
    "     obj = car()"
   ]
  },
  {
   "cell_type": "code",
   "execution_count": null,
   "metadata": {},
   "outputs": [],
   "source": [
    "#Constructor in oops:\n",
    "- Constructor in python is a special method which is\n",
    "used to initialize the members of class during run-time \n",
    "when an object is created.\n",
    "\n",
    "we define class constructor always represented by double underscore \"__\"\n",
    "    __init__().\n",
    "\n",
    "#Note: Every class must have a constructor, even if you dont create\n",
    " a constructor explicitly it will create a default constuctor by itself."
   ]
  },
  {
   "cell_type": "code",
   "execution_count": 7,
   "metadata": {},
   "outputs": [
    {
     "name": "stdout",
     "output_type": "stream",
     "text": [
      "Sum of a and b is 30\n"
     ]
    }
   ],
   "source": [
    "#Ex:\n",
    "class Myclass:\n",
    "    sum = 0     #class variable\n",
    "    def __init__(self,a,b):       #instance method or constructor method\n",
    "        self.sum=a+b     #self keyword is used to access the members of class.\n",
    "                         #a,b - instance variables\n",
    "    def printsum(self):     #class method\n",
    "        print(\"Sum of a and b is\",self.sum)\n",
    "#creating objects for above class\n",
    "ob = Myclass(10,20)\n",
    "ob.printsum()\n",
    "\n",
    "#Note: constructor will never return values."
   ]
  },
  {
   "cell_type": "code",
   "execution_count": null,
   "metadata": {},
   "outputs": [],
   "source": [
    "#Inheritance:\n",
    " - Inheritance is refers\n",
    "    A class which inherts the properties of another class is called\n",
    "      Inheritance.\n",
    "                 Properties\n",
    "    Parent(class)---------->Child(class)\n",
    "#types of inheritance:\n",
    "    1. single\n",
    "    2. Multilevel\n",
    "    3. Multiple"
   ]
  },
  {
   "cell_type": "code",
   "execution_count": 13,
   "metadata": {},
   "outputs": [
    {
     "name": "stdout",
     "output_type": "stream",
     "text": [
      "sum of a and b is 30\n",
      "None\n",
      "substraction of c and d is 40\n",
      "None\n",
      "10\n",
      "20\n",
      "50\n",
      "10\n"
     ]
    }
   ],
   "source": [
    "#Single-Level Inhertance:\n",
    "class arthimatic:       #parent class\n",
    "    a= 10                          #parent class variable\n",
    "    b = 20\n",
    "    def add(self):            #parent class method\n",
    "        sum = self.a+self.b\n",
    "        print(\"sum of a and b is\",sum)\n",
    "class addition(arthimatic):       #child class\n",
    "    c = 50\n",
    "    d = 10                      #child class variable and method\n",
    "    def sub(self):\n",
    "        sub = self.c-self.d\n",
    "        print(\"substraction of c and d is\",sub)\n",
    "ob=addition()    #child class object\n",
    "print(ob.add())\n",
    "print(ob.sub())\n",
    "print(ob.a)\n",
    "print(ob.b)\n",
    "print(ob.c)\n",
    "print(ob.d)"
   ]
  },
  {
   "cell_type": "code",
   "execution_count": null,
   "metadata": {},
   "outputs": [],
   "source": [
    "#Multi-level Inheritance:\n",
    "parent1class--->parent2(child1)--->child2class\n",
    "\n",
    "In Multilevel - one or more class will act as a parent or base class.\n"
   ]
  },
  {
   "cell_type": "code",
   "execution_count": 17,
   "metadata": {},
   "outputs": [
    {
     "name": "stdout",
     "output_type": "stream",
     "text": [
      "sum of a and b is 30\n",
      "subtraction of a and b is 10\n",
      "multiplication of a and b is 200\n"
     ]
    },
    {
     "data": {
      "text/plain": [
       "10"
      ]
     },
     "execution_count": 17,
     "metadata": {},
     "output_type": "execute_result"
    }
   ],
   "source": [
    "#example:   (one or more parent classes)\n",
    "class addition:             #parent class 1\n",
    "    a = 10\n",
    "    b = 20\n",
    "    def add(self):\n",
    "        sum = self.a+self.b\n",
    "        print(\"sum of a and b is\",sum)\n",
    "class substraction(addition):   #parent class 2 or child class1\n",
    "    def sub(self):\n",
    "        sub = self.b-self.a\n",
    "        print(\"subtraction of a and b is\",sub)\n",
    "class multiplication(substraction):     #child class2\n",
    "    def mul(self):\n",
    "        multi = self.a * self.b\n",
    "        print(\"multiplication of a and b is\",multi)\n",
    "ob=multiplication()\n",
    "ob.add()\n",
    "ob.sub()\n",
    "ob.mul()\n",
    "ob.a"
   ]
  },
  {
   "cell_type": "code",
   "execution_count": null,
   "metadata": {},
   "outputs": [],
   "source": [
    "#Multiple Inheritance:\n",
    "A class which is inherits the properties of multiple parent classes\n",
    "is called mulitple inheritance:\n"
   ]
  },
  {
   "cell_type": "code",
   "execution_count": 19,
   "metadata": {},
   "outputs": [
    {
     "name": "stdout",
     "output_type": "stream",
     "text": [
      "sum of a and b is  30\n",
      "substraction of c and d is 40\n",
      "multiplication of a and c is 500\n"
     ]
    }
   ],
   "source": [
    "#example:  (one child class and more than one parent classes)\n",
    "class Addition:\n",
    "    a = 10\n",
    "    b = 20\n",
    "    def add(self):\n",
    "        sum = self.a+self.b\n",
    "        print(\"sum of a and b is \",sum)\n",
    "class substraction():\n",
    "    c = 50\n",
    "    d = 10\n",
    "    def sub(self):\n",
    "        sub = self.c-self.d\n",
    "        print(\"substraction of c and d is\",sub)\n",
    "class multiplication(Addition,substraction):  #multiple inheritance\n",
    "    def mul(self):\n",
    "        multi = self.a * self.c\n",
    "        print(\"multiplication of a and c is\",multi)\n",
    "ob= multiplication()\n",
    "ob.add()\n",
    "ob.sub()\n",
    "ob.mul()    "
   ]
  },
  {
   "cell_type": "code",
   "execution_count": null,
   "metadata": {},
   "outputs": [],
   "source": [
    "#Encapsulation:\n",
    "       Its way to ensure security , simply it hides data from the access of outsiders.\n",
    "-- for making encpasulation\n",
    "    we can declare the methods or the attributes as \"protected\" by using\n",
    "    a single underscore(_) before thier names.\n",
    "     such as \n",
    "        self._name or \n",
    "        def _methodname()\n",
    "#Note: By using some tricks there may chance of accessing the attributes and \n",
    "       methods of class data (protected)\n",
    "     # for preventing the access of attributes/methods from outsiders the scope of a class.\n",
    "        you can make them as \"private\""
   ]
  },
  {
   "cell_type": "code",
   "execution_count": 25,
   "metadata": {},
   "outputs": [
    {
     "name": "stdout",
     "output_type": "stream",
     "text": [
      "BMW 11-series 60\n",
      "None\n",
      "BMW 11-series\n",
      "60\n"
     ]
    }
   ],
   "source": [
    "#Example:\n",
    "class car:\n",
    "    def __init__(self,name,mileage):\n",
    "        self._name= name           #protected variable\n",
    "        self.mileage = mileage\n",
    "    def description(self):\n",
    "        print(self._name,self.mileage)\n",
    "\n",
    "ob = car(\"BMW 11-series\",60)\n",
    "print(ob.description())\n",
    "\n",
    "#accesing the protected directly from outside\n",
    "\n",
    "print(ob._name)\n",
    "print(ob.mileage)"
   ]
  },
  {
   "cell_type": "code",
   "execution_count": 29,
   "metadata": {},
   "outputs": [
    {
     "name": "stdout",
     "output_type": "stream",
     "text": [
      "BMW-11 Series 60\n",
      "None\n",
      "60\n"
     ]
    },
    {
     "ename": "AttributeError",
     "evalue": "'car' object has no attribute '__name'",
     "output_type": "error",
     "traceback": [
      "\u001b[1;31m---------------------------------------------------------------------------\u001b[0m",
      "\u001b[1;31mAttributeError\u001b[0m                            Traceback (most recent call last)",
      "\u001b[1;32m<ipython-input-29-5d5ecff2d0a5>\u001b[0m in \u001b[0;36m<module>\u001b[1;34m\u001b[0m\n\u001b[0;32m      9\u001b[0m \u001b[0mprint\u001b[0m\u001b[1;33m(\u001b[0m\u001b[0mob\u001b[0m\u001b[1;33m.\u001b[0m\u001b[0mdescription\u001b[0m\u001b[1;33m(\u001b[0m\u001b[1;33m)\u001b[0m\u001b[1;33m)\u001b[0m\u001b[1;33m\u001b[0m\u001b[1;33m\u001b[0m\u001b[0m\n\u001b[0;32m     10\u001b[0m \u001b[0mprint\u001b[0m\u001b[1;33m(\u001b[0m\u001b[0mob\u001b[0m\u001b[1;33m.\u001b[0m\u001b[0mmileage\u001b[0m\u001b[1;33m)\u001b[0m\u001b[1;33m\u001b[0m\u001b[1;33m\u001b[0m\u001b[0m\n\u001b[1;32m---> 11\u001b[1;33m \u001b[0mprint\u001b[0m\u001b[1;33m(\u001b[0m\u001b[0mob\u001b[0m\u001b[1;33m.\u001b[0m\u001b[0m__name\u001b[0m\u001b[1;33m)\u001b[0m\u001b[1;33m\u001b[0m\u001b[1;33m\u001b[0m\u001b[0m\n\u001b[0m",
      "\u001b[1;31mAttributeError\u001b[0m: 'car' object has no attribute '__name'"
     ]
    }
   ],
   "source": [
    "#make class variabels as private:\n",
    "class car:\n",
    "    def __init__(self,name,mileage):\n",
    "        self.__name=name   #private variable\n",
    "        self.mileage   = mileage\n",
    "    def description(self):\n",
    "        print(self.__name,self.mileage)\n",
    "ob = car(\"BMW-11 Series\",60)\n",
    "print(ob.description())\n",
    "print(ob.mileage)\n",
    "print(ob.__name)"
   ]
  },
  {
   "cell_type": "code",
   "execution_count": null,
   "metadata": {},
   "outputs": [],
   "source": []
  }
 ],
 "metadata": {
  "kernelspec": {
   "display_name": "Python 3",
   "language": "python",
   "name": "python3"
  },
  "language_info": {
   "codemirror_mode": {
    "name": "ipython",
    "version": 3
   },
   "file_extension": ".py",
   "mimetype": "text/x-python",
   "name": "python",
   "nbconvert_exporter": "python",
   "pygments_lexer": "ipython3",
   "version": "3.8.5"
  }
 },
 "nbformat": 4,
 "nbformat_minor": 5
}
